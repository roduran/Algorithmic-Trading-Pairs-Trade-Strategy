{
 "cells": [
  {
   "cell_type": "markdown",
   "metadata": {},
   "source": [
    "# Algorithmic Trading: Pairs Trade Strategy\n",
    "\n",
    "Integrante: Rodrigo Durán\n",
    "\n",
    "El siguiente trabajo esta enfocado a realizar una estrategía de trading con señales estadísticas, más conocido como pairs trading.\n",
    "\n",
    "En primer lugar se realiza una calibración de parámetros con datos historicos y la selección del par de equities optima.\n",
    "\n",
    "En segundo lugar se mide el grado de overfitting de la calibración con un nuevo horizonte de datos y se efectua la estrategía con distintos parámetros."
   ]
  },
  {
   "cell_type": "code",
   "execution_count": 1,
   "metadata": {},
   "outputs": [],
   "source": [
    "import pandas as pd\n",
    "import numpy as np\n",
    "import datetime\n",
    "import matplotlib.pyplot as plt\n",
    "import fix_yahoo_finance as yf\n",
    "import seaborn as sns; sns.set()\n",
    "import statsmodels\n",
    "from statsmodels.tsa.stattools import coint\n",
    "from pandas import Series\n",
    "from statsmodels.tsa.stattools import adfuller\n",
    "from scipy import stats\n",
    "from scipy.odr import Model, Data, ODR\n",
    "import statsmodels.api as sm\n",
    "pd.options.mode.chained_assignment = None "
   ]
  },
  {
   "cell_type": "code",
   "execution_count": 2,
   "metadata": {},
   "outputs": [],
   "source": [
    "# Horizonte de Calibracion #\n",
    "#start date\n",
    "yearS=2014\n",
    "monthS=1\n",
    "dayS=1\n",
    "\n",
    "#end date\n",
    "yearE=2017\n",
    "monthE=9\n",
    "dayE=30\n",
    "\n",
    "# Testing fuera de muestra #\n",
    "#start date\n",
    "yearS=2017\n",
    "monthS=10\n",
    "dayS=1\n",
    "\n",
    "#end date\n",
    "yearE=2018\n",
    "monthE=10\n",
    "dayE=30"
   ]
  },
  {
   "cell_type": "markdown",
   "metadata": {},
   "source": [
    "El código de abajo muestra como se descargo los precios de las acciones bancarias transados IPSA, se eligio los bancos chilenos ya que historicamente los bancos suelen comportarse de la misma manera ej. alta correlation y cointegracion optima"
   ]
  },
  {
   "cell_type": "code",
   "execution_count": 3,
   "metadata": {},
   "outputs": [
    {
     "data": {
      "text/plain": [
       "\"chile = pdr.get_data_yahoo('CHILE.SN', \\n                          start=datetime.datetime(yearS,monthS,dayS), \\n                          end=datetime.datetime(yearE, monthE, dayE))\\n\\n\\nbci = pdr.get_data_yahoo('BCI.SN', \\n                          start=datetime.datetime(yearS,monthS,dayS), \\n                          end=datetime.datetime(yearE, monthE, dayE))\\n\\nsantander = pdr.get_data_yahoo('BSANTANDER.SN', \\n                          start=datetime.datetime(yearS,monthS,dayS), \\n                          end=datetime.datetime(yearE, monthE, dayE))\\n\\nitau = pdr.get_data_yahoo('ITAUCORP.SN', \\n                          start=datetime.datetime(yearS,monthS,dayS), \\n                          end=datetime.datetime(yearE, monthE, dayE))\\n                          \\n#Exportar Data\\nchile.to_csv('banco_chile.csv')\\nbci.to_csv('bci.csv')\\nitau.to_csv('itau.csv')\\nsantander.to_csv('santander.csv')\""
      ]
     },
     "execution_count": 3,
     "metadata": {},
     "output_type": "execute_result"
    }
   ],
   "source": [
    "\"\"\"chile = pdr.get_data_yahoo('CHILE.SN', \n",
    "                          start=datetime.datetime(yearS,monthS,dayS), \n",
    "                          end=datetime.datetime(yearE, monthE, dayE))\n",
    "\n",
    "\n",
    "bci = pdr.get_data_yahoo('BCI.SN', \n",
    "                          start=datetime.datetime(yearS,monthS,dayS), \n",
    "                          end=datetime.datetime(yearE, monthE, dayE))\n",
    "\n",
    "santander = pdr.get_data_yahoo('BSANTANDER.SN', \n",
    "                          start=datetime.datetime(yearS,monthS,dayS), \n",
    "                          end=datetime.datetime(yearE, monthE, dayE))\n",
    "\n",
    "itau = pdr.get_data_yahoo('ITAUCORP.SN', \n",
    "                          start=datetime.datetime(yearS,monthS,dayS), \n",
    "                          end=datetime.datetime(yearE, monthE, dayE))\n",
    "                          \n",
    "#Exportar Data\n",
    "chile.to_csv('banco_chile.csv')\n",
    "bci.to_csv('bci.csv')\n",
    "itau.to_csv('itau.csv')\n",
    "santander.to_csv('santander.csv')\"\"\""
   ]
  },
  {
   "cell_type": "code",
   "execution_count": 4,
   "metadata": {},
   "outputs": [],
   "source": [
    "# Importar data\n",
    "chile = pd.read_csv('banco_chile.csv',index_col = 0).dropna()\n",
    "bci = pd.read_csv('bci.csv',index_col = 0).dropna()\n",
    "itau = pd.read_csv('itau.csv',index_col = 0).dropna()\n",
    "santander = pd.read_csv('santander.csv',index_col = 0).dropna()"
   ]
  },
  {
   "cell_type": "code",
   "execution_count": 5,
   "metadata": {},
   "outputs": [],
   "source": [
    "# Precios de Cierre bancos chilenos transados en bolsa\n",
    "itau_prices = itau[['Adj Close']].rename(index = str,columns={'Adj Close':'Itau'})\n",
    "chile_prices = chile[['Adj Close']].rename(index = str,columns={'Adj Close':'Chile'})\n",
    "bci_prices = bci[['Adj Close']].rename(index = str,columns={'Adj Close':'BCI'})\n",
    "santander_prices= santander[['Adj Close']].rename(index = str,columns={'Adj Close':'Santander'})"
   ]
  },
  {
   "cell_type": "code",
   "execution_count": 6,
   "metadata": {},
   "outputs": [],
   "source": [
    "# Matriz de cierre de precios\n",
    "trading = pd.concat([bci_prices,santander_prices,itau_prices,chile_prices], axis=1,join = 'inner').dropna()"
   ]
  },
  {
   "cell_type": "code",
   "execution_count": 7,
   "metadata": {},
   "outputs": [],
   "source": [
    "# Horizonte de tiempo calibracion # 2014-2017\n",
    "trading_train = trading.iloc[:939,:]\n",
    "\n",
    "# Horizonte de tiempo para testing fuera de muestra # 2017-2018\n",
    "trading_test = trading.iloc[939:,:]"
   ]
  },
  {
   "cell_type": "code",
   "execution_count": 8,
   "metadata": {},
   "outputs": [
    {
     "name": "stdout",
     "output_type": "stream",
     "text": [
      "Cierre de Precios desde el 2014-2017\n",
      "                     BCI  Santander      Itau      Chile\n",
      "Date                                                    \n",
      "2014-01-02  21151.609375  24.096285  5.889181  51.473732\n",
      "2014-01-03  21169.955078  24.119963  5.835715  51.515179\n",
      "2014-01-06  21282.197266  24.096285  5.882105  51.625652\n",
      "2014-01-07  21638.613281  23.993679  5.827066  51.694759\n",
      "2014-01-08  21716.341797  24.198889  5.805837  51.950256\n"
     ]
    }
   ],
   "source": [
    "print('Cierre de Precios desde el 2014-2017')\n",
    "print(trading_train.head())"
   ]
  },
  {
   "cell_type": "code",
   "execution_count": 9,
   "metadata": {},
   "outputs": [
    {
     "name": "stdout",
     "output_type": "stream",
     "text": [
      "Cierre de Precios desde el 2017-2018\n",
      "                     BCI  Santander   Itau      Chile\n",
      "Date                                                 \n",
      "2018-10-25  43254.699219  50.709999  6.496  96.650002\n",
      "2018-10-26  42787.000000  50.680000  6.459  96.239998\n",
      "2018-10-29  42930.000000  50.580002  6.364  95.570000\n",
      "2018-10-30  42721.000000  50.080002  6.361  94.620003\n",
      "2018-10-31  43760.000000  51.080002  6.450  96.410004\n"
     ]
    }
   ],
   "source": [
    "print('Cierre de Precios desde el 2017-2018')\n",
    "print(trading_test.tail())"
   ]
  },
  {
   "cell_type": "markdown",
   "metadata": {},
   "source": [
    "## Preselección de pares optimos\n",
    "\n",
    "\n",
    "El primer paso es utilizar el análisis de correlación, se realizará para todas las combinaciones de equities posibles, donde cada uno de los pares de stock será preseleccionado si su coeficiente de correlación es\n",
    "igual o mayor que 0.90."
   ]
  },
  {
   "cell_type": "code",
   "execution_count": 11,
   "metadata": {},
   "outputs": [
    {
     "name": "stdout",
     "output_type": "stream",
     "text": [
      "                BCI  Santander      Itau     Chile\n",
      "BCI        1.000000   0.948986  0.206004  0.942673\n",
      "Santander  0.948986   1.000000  0.261890  0.967173\n",
      "Itau       0.206004   0.261890  1.000000  0.218999\n",
      "Chile      0.942673   0.967173  0.218999  1.000000\n"
     ]
    },
    {
     "data": {
      "image/png": "[encoded data removed]",
      "text/plain": [
       "<Figure size 432x288 with 2 Axes>"
      ]
     },
     "metadata": {},
     "output_type": "display_data"
    }
   ],
   "source": [
    "# Correlacion \n",
    "df_corr = trading_train.corr()\n",
    "\n",
    "def visualize_data():\n",
    "    print(df_corr.head())\n",
    "    #takes only data (numbers) inside the corr matrix\n",
    "    data =  df_corr.values\n",
    "    fig = plt.figure()\n",
    "    #1 by 1 in plot number one\n",
    "    ax = fig.add_subplot(1,1,1)\n",
    "    #customizing the plot showing the correlation in color\n",
    "    #if theres negative correlation if stock goes up other goes down\n",
    "    heatmap = ax.pcolor(data,cmap = plt.cm.RdYlGn)\n",
    "    fig.colorbar(heatmap)\n",
    "    ax.set_xticks(np.arange(data.shape[0])+0.5,minor = False)\n",
    "    ax.set_yticks(np.arange(data.shape[1])+0.5,minor = False)\n",
    "    #errases any gaps from the graph\n",
    "    ax.invert_yaxis()\n",
    "    #moves ticks from xaxis to the top\n",
    "    ax.xaxis.tick_top()\n",
    "    column_labels = df_corr.columns\n",
    "    row_labels = df_corr.index\n",
    "    ax.set_xticklabels(column_labels)\n",
    "    ax.set_yticklabels(row_labels)\n",
    "    plt.xticks(rotation=90)\n",
    "    #limit of the color limit of the heatmap of correlationmatrix\n",
    "    heatmap.set_clim(-1,1)\n",
    "    plt.tight_layout()\n",
    "    plt.show()\n",
    "\n",
    "visualize_data()"
   ]
  },
  {
   "cell_type": "markdown",
   "metadata": {},
   "source": [
    "Debido a estas correlaciones automaticamente descartamos el banco itau ya que la correlacion con los demas bancos es muy bajo para el filtro de nuestra estrategia"
   ]
  },
  {
   "cell_type": "markdown",
   "metadata": {},
   "source": [
    "El segundo paso involucra utilizar el enfoque de cointegración para determinar cual es el par mas óptimo para ejecturá nuestra estrategía, este será probado en todos los pares de acciones preseleccionadas, que ya se seleccionaron en función de los resultados del enfoque de correlación. \n",
    "\n",
    "Un subconjunto de los pares de acciones se seleccionará adicionalmente si el valor de prueba de cointegración es igual o menor que -3.34, el cual es una cointegracion con 95% de intervalo de confianza."
   ]
  },
  {
   "cell_type": "code",
   "execution_count": 12,
   "metadata": {
    "scrolled": true
   },
   "outputs": [
    {
     "name": "stdout",
     "output_type": "stream",
     "text": [
      "Cointegración Banco Chile vs Santander: -3.276245164277644\n",
      "Cointegración Banco Chile vs BCI: -1.9054704758752108\n",
      "Cointegración BCI vs Santander: -3.178876102345246\n"
     ]
    }
   ],
   "source": [
    "coint_sanchile = coint(trading_train['Chile'],trading_train['Santander'])[0]\n",
    "coint_bcichile = coint(trading_train['Chile'],trading_train['BCI'])[0]\n",
    "coint_sanbci = coint(trading_train['BCI'],trading_train['Santander'])[0]\n",
    "print('Cointegración Banco Chile vs Santander:',coint_sanchile)\n",
    "print('Cointegración Banco Chile vs BCI:',coint_bcichile)\n",
    "print('Cointegración BCI vs Santander:',coint_sanbci)"
   ]
  },
  {
   "cell_type": "code",
   "execution_count": 13,
   "metadata": {},
   "outputs": [
    {
     "name": "stdout",
     "output_type": "stream",
     "text": [
      "Correlacion Banco Chile vs Santander 0.9671732640478916\n",
      "Cointegración Banco Chile vs Santander: -3.276245164277644\n"
     ]
    }
   ],
   "source": [
    "print('Correlacion Banco Chile vs Santander',df_corr.iloc[1,3])\n",
    "print('Cointegración Banco Chile vs Santander:',coint_sanchile)"
   ]
  },
  {
   "cell_type": "markdown",
   "metadata": {},
   "source": [
    "Dado los resultados obtenidos en las pruebas de correlacion y cointegracion, el par seleccionado es:\n",
    "##### Banco de Chile - Santander\n",
    "En el siguiente grafico se puede observar el comportamiento de los precios de cierre de las acciones de Banco de Chile y Santander:"
   ]
  },
  {
   "cell_type": "code",
   "execution_count": 14,
   "metadata": {},
   "outputs": [
    {
     "data": {
      "text/plain": [
       "Text(0.5,1,'Santander vs Chile')"
      ]
     },
     "execution_count": 14,
     "metadata": {},
     "output_type": "execute_result"
    },
    {
     "data": {
      "image/png": "[encoded data removed]",
      "text/plain": [
       "<Figure size 432x288 with 2 Axes>"
      ]
     },
     "metadata": {},
     "output_type": "display_data"
    }
   ],
   "source": [
    "trading_train['Santander'].plot()\n",
    "trading_train['Chile'].plot(secondary_y=True)\n",
    "plt.legend(['Santander'])\n",
    "plt.title('Santander vs Chile')"
   ]
  },
  {
   "cell_type": "markdown",
   "metadata": {},
   "source": [
    "## In Sample - Training"
   ]
  },
  {
   "cell_type": "markdown",
   "metadata": {},
   "source": [
    "Hay dos formas de encontrar la pendiente de una regresión $\\beta$:\n",
    "\n",
    "$\n",
    "Ordinary \\ Least \\ Squares \\ (OLS)\n",
    "$\n",
    "\n",
    "$\n",
    "Total \\ Least \\ Squares \\ (TLS)\n",
    "$\n",
    "\n",
    "Utilizamos TLS porque de esta forma, la elección de las acciones en los ejes se vuelve irrelevante,\n",
    "debido a que el pendiente ($\\beta$) se ajusta de mejor manera que por mínimos cuadrados ordinarios (OLS). Esto significa que independientemente de cual equity usemos como y o x, la pendiente siempre va ser la misma, lo que no ocurre con mínimos cuadrados.  "
   ]
  },
  {
   "cell_type": "code",
   "execution_count": 15,
   "metadata": {},
   "outputs": [],
   "source": [
    "# Total Least Squares\n",
    "def linear_func(B, x):\n",
    "    return B[0]*x+B[1]\n",
    "def TLS(x,y):\n",
    "    linear=Model(linear_func)\n",
    "    linreg = stats.linregress(x,y)\n",
    "    dat = Data(x,y)\n",
    "    od = ODR(dat, linear, beta0=linreg[0:2])\n",
    "    out = od.run()\n",
    "    return out.beta[0]"
   ]
  },
  {
   "cell_type": "code",
   "execution_count": 16,
   "metadata": {},
   "outputs": [
    {
     "data": {
      "text/plain": [
       "Text(0.5,1,'Spread Banco Chile vs Santander')"
      ]
     },
     "execution_count": 16,
     "metadata": {},
     "output_type": "execute_result"
    },
    {
     "data": {
      "image/png": "[encoded data removed]",
      "text/plain": [
       "<Figure size 432x288 with 1 Axes>"
      ]
     },
     "metadata": {},
     "output_type": "display_data"
    }
   ],
   "source": [
    "# Se calcula el parametro beta para la relacion Banco de Chile y Santander.\n",
    "# y - mx = beta\n",
    "beta_sanchile = TLS(trading_train['Chile'],trading_train['Santander'])\n",
    "\n",
    "# Se aplicara una estrategia Long-Short en base al spread\n",
    "\n",
    "residual_sanchile = trading_test['Santander'] - trading_test['Chile']*beta_sanchile\n",
    "\n",
    "# La fuente generadora de señales a utilizar será una desviación estandar para tomar posiciones.\n",
    "\n",
    "ratio = residual_sanchile\n",
    "fig = plt.figure(1)\n",
    "ax1 = fig.add_subplot(111,  ylabel='Ratio Value')\n",
    "ratio.plot()\n",
    "plt.axhline(ratio.mean(),color = 'black')\n",
    "plt.axhline(ratio.mean()+np.std(ratio), color='green',linestyle='--')\n",
    "plt.axhline(ratio.mean()+2*np.std(ratio), color='red',linestyle='--')\n",
    "plt.axhline(ratio.mean()+3*np.std(ratio), color='yellow',linestyle='--')\n",
    "plt.axhline(ratio.mean()-np.std(ratio), color='green',linestyle='--')\n",
    "plt.axhline(ratio.mean()-2*np.std(ratio), color='red',linestyle='--')\n",
    "plt.axhline(ratio.mean()-3*np.std(ratio), color='yellow',linestyle='--')\n",
    "plt.legend(['Spread','Mean','std','2 std','3 std'])\n",
    "plt.title('Spread Banco Chile vs Santander')  \n"
   ]
  },
  {
   "cell_type": "markdown",
   "metadata": {},
   "source": [
    "La estrategía para tomar posición $larga \\ Banco \\ de \\ Chile$ y $corta \\ Santander$ se activará cuando el residuo alcance el umbral de una desviación estandar (linea verde superior) y se cerrará cuando esta vuelva a alcanzar su media (linea negra). Del mismo modo, ocurrira para la tomar posicion $corta \\ Banco \\ de \\ Chile$ y $largo \\ Santander$ cuando el residuo alcance menos una desviación estandar (linea verde inferior) y se cerrará cuando esta vuelva a alcanzar su media (linea negra).\n",
    "\n",
    "También como medida de riesgo, cuando el residuo alcance 2 desviaciones estandar de la media (linea roja inferior y superior), se procedera a cerrar la posicion como medida de prevención, asumiendo una perdida dadas las posiciones tomadas."
   ]
  },
  {
   "cell_type": "code",
   "execution_count": 17,
   "metadata": {},
   "outputs": [],
   "source": [
    "def backtest(residuals,window):\n",
    "    df1 = pd.DataFrame({'y':residual_sanchile}) \n",
    "    df1['spread'] = residual_sanchile\n",
    "    \n",
    "    ## Select window ##\n",
    "    halflife = window\n",
    "    \n",
    "    ## mean and std ##\n",
    "    meanSpread = df1.spread.rolling(window=halflife).mean()\n",
    "    stdSpread = df1.spread.rolling(window=halflife).std()\n",
    "    \n",
    "    \n",
    "    ## Estrategía de trading y stop loss ##\n",
    "    entryLong = meanSpread - stdSpread\n",
    "    entryShort = meanSpread + stdSpread\n",
    "    dos_std_long = meanSpread - 2*stdSpread\n",
    "    dos_std_short = meanSpread + 2*stdSpread\n",
    "    \n",
    "    ## Set up Long ##\n",
    "    df1['long entry'] = (df1.spread <= entryLong) #& (df1.spread > dos_std_long)\n",
    "    df1['long exit'] = (df1.spread == meanSpread) | (df1.spread <= dos_std_long)\n",
    "    df1['num long'] = np.nan \n",
    "    df1.loc[df1['long entry'],'num long'] = 1 \n",
    "    df1.loc[df1['long exit'],'num long'] = 0 \n",
    "    df1['num long'][0] = 0\n",
    "    df1['num long'] = df1['num long'].fillna(method='pad') \n",
    "\n",
    "    ## Set up Short ##\n",
    "    df1['short entry'] = (df1.spread >= entryShort) #&  (df1.spread < dos_std_short)\n",
    "    df1['short exit'] = (df1.spread == meanSpread) | (df1.spread >= dos_std_short)\n",
    "    df1.loc[df1['short entry'],'num short'] = -1\n",
    "    df1.loc[df1['short exit'],'num short'] = 0\n",
    "    df1['num short'][0] = 0\n",
    "    df1['num short'] = df1['num short'].fillna(method='pad')\n",
    "    \n",
    "    ## PnL ##\n",
    "    df1['num total'] = df1['num long'] + df1['num short']\n",
    "    df1['cambio spread'] = (df1['spread'] - df1['spread'].shift(1)) / df1['spread']\n",
    "    df1['ret'] = df1['cambio spread'] * df1['num total'].shift(1)\n",
    "    \n",
    "    df1['ret acum'] = df1['ret'].cumsum()\n",
    "    df1['ret acum'] = df1['ret acum'] + 1\n",
    "    \n",
    "    \n",
    "    ## SORTINO ##\n",
    "    df1['ret neg'] = np.nan\n",
    "\n",
    "    for i in range (0,len(df1['cambio spread'])):\n",
    "            if df1['cambio spread'].iloc[i] < 0.0:\n",
    "                df1['ret neg'].iloc[i] = df1['cambio spread'][i]\n",
    "            if df1['cambio spread'].iloc[i] > 0.0:\n",
    "                df1['ret neg'].iloc[i] = np.nan \n",
    "    \n",
    "    #df1['ret neg'] = df1['ret neg'].dropna()\n",
    "    \n",
    "    try:\n",
    "        sortino = ((df1['ret'].mean() - 0.05)/ df1['ret neg'].std()) *np.sqrt(252)\n",
    "    except ZeroDivisionError:\n",
    "        sortino = 0.0 \n",
    "\n",
    "    \n",
    "    ## SHARP ##\n",
    "    try:\n",
    "        sharpe = ((df1['ret'].mean() - 0.05) / df1['ret'].std()) *np.sqrt(252)\n",
    "    except ZeroDivisionError:\n",
    "        sharpe = 0.0\n",
    "\n",
    "    \n",
    "\n",
    "    ## MAX DRAWDOWNS ##\n",
    "\n",
    "    maximums = np.maximum.accumulate(df1['ret acum'].dropna().values)\n",
    "    drawdowns = 1 - (df1['ret acum'].dropna().values) / maximums\n",
    "    max_drawdowns = np.amax(drawdowns)\n",
    "    \n",
    "    \n",
    "    ## NUM TRADES ##\n",
    "    \n",
    "    counters = 0 \n",
    "    for i in range(1, len(df1['ret'])):\n",
    "        if (df1['ret'].iloc[i] != 0.0) & (df1['ret'].iloc[i] != df1['ret'].iloc[i-1]):\n",
    "            counters += 1\n",
    "            \n",
    "    \n",
    "    \n",
    "    ## HIT RATIO ##\n",
    "    df1['hitratio'] = \"\"\n",
    "    for i in range(1, len(df1['ret acum'])):\n",
    "        if df1['ret acum'].iloc[i] > df1['ret acum'].iloc[i-1]:\n",
    "            df1['hitratio'].iloc[i] = 'bueno'\n",
    "        if df1['ret acum'].iloc[i] < df1['ret acum'].iloc[i-1]:\n",
    "            df1['hitratio'].iloc[i] = 'malo'\n",
    "    \n",
    "    hit_ratio = (df1.hitratio.str.count(\"bueno\").sum()/(df1.hitratio.str.count(\"malo\").sum()+df1.hitratio.str.count(\"bueno\").sum()))*100\n",
    "    \n",
    "    return df1['ret acum'], sharpe , sortino , max_drawdowns, counters ,hit_ratio "
   ]
  },
  {
   "cell_type": "markdown",
   "metadata": {},
   "source": [
    "A continuación se observa el comportamiento del spread calculado apartir del parametro $\\beta$ estimado mediante TLS con el par seleccionado. También se observa la media movil y banda de desviaciones estandar moviles:\n",
    "\n",
    "Tomar posición: $\\mu \\pm \\sigma$\n",
    "\n",
    "Stop loss: $\\mu \\pm 2 * \\sigma$\n",
    "\n",
    "\n",
    "La media y desviación estandar fueron calculadas con un rolling de 65 días. Por lo tanto el trading algoritmico comenzará a actuar 65 días desde el inicio de data disponible. "
   ]
  },
  {
   "cell_type": "code",
   "execution_count": 18,
   "metadata": {},
   "outputs": [
    {
     "data": {
      "text/plain": [
       "Text(0.5,1,'Spread Banco Chile vs Santander')"
      ]
     },
     "execution_count": 18,
     "metadata": {},
     "output_type": "execute_result"
    },
    {
     "data": {
      "image/png": "[encoded data removed]",
      "text/plain": [
       "<Figure size 432x288 with 1 Axes>"
      ]
     },
     "metadata": {},
     "output_type": "display_data"
    }
   ],
   "source": [
    "## PLOT ##\n",
    "\n",
    "## Select window ##\n",
    "halflife = 65\n",
    "    \n",
    "## mean and std ##\n",
    "meanSpread = residual_sanchile.rolling(window=halflife).mean()\n",
    "stdSpread = residual_sanchile.rolling(window=halflife).std()\n",
    "\n",
    "ratio = residual_sanchile\n",
    "cierre = meanSpread\n",
    "stdsup = meanSpread + stdSpread\n",
    "stdinf = meanSpread - stdSpread\n",
    "stopstdsup = meanSpread + 2*stdSpread\n",
    "stopstdinf = meanSpread - 2*stdSpread\n",
    "\n",
    "fig = plt.figure(1)\n",
    "ax1 = fig.add_subplot(111,  ylabel='Spread Value')\n",
    "ratio.plot()\n",
    "cierre.plot(color=\"black\")\n",
    "stdsup.plot(color=\"green\")\n",
    "stopstdsup.plot(color=\"red\")\n",
    "stdinf.plot(color=\"green\")\n",
    "stopstdinf.plot(color=\"red\")\n",
    "plt.legend(['Spread','Mean','std','2 std' ])\n",
    "plt.title('Spread Banco Chile vs Santander')"
   ]
  },
  {
   "cell_type": "code",
   "execution_count": 19,
   "metadata": {},
   "outputs": [],
   "source": [
    "at_res = ['Banco Chile / Santander']\n",
    "at_res_col = ['Total Returns %','Sharpe Ratio', 'Sortino Ratio','Maximum Drawdown %','Number of Trades','Hit Ratio %']\n",
    "test_df = pd.DataFrame(0, index=at_res_col, columns=at_res)"
   ]
  },
  {
   "cell_type": "code",
   "execution_count": 20,
   "metadata": {},
   "outputs": [
    {
     "data": {
      "text/html": [
       "<div>\n",
       "<style scoped>\n",
       "    .dataframe tbody tr th:only-of-type {\n",
       "        vertical-align: middle;\n",
       "    }\n",
       "\n",
       "    .dataframe tbody tr th {\n",
       "        vertical-align: top;\n",
       "    }\n",
       "\n",
       "    .dataframe thead th {\n",
       "        text-align: right;\n",
       "    }\n",
       "</style>\n",
       "<table border=\"1\" class=\"dataframe\">\n",
       "  <thead>\n",
       "    <tr style=\"text-align: right;\">\n",
       "      <th></th>\n",
       "      <th>Banco Chile / Santander</th>\n",
       "    </tr>\n",
       "  </thead>\n",
       "  <tbody>\n",
       "    <tr>\n",
       "      <th>Total Returns %</th>\n",
       "      <td>38.891896</td>\n",
       "    </tr>\n",
       "    <tr>\n",
       "      <th>Sharpe Ratio</th>\n",
       "      <td>1.145315</td>\n",
       "    </tr>\n",
       "    <tr>\n",
       "      <th>Sortino Ratio</th>\n",
       "      <td>0.178066</td>\n",
       "    </tr>\n",
       "    <tr>\n",
       "      <th>Maximum Drawdown %</th>\n",
       "      <td>2.840500</td>\n",
       "    </tr>\n",
       "    <tr>\n",
       "      <th>Number of Trades</th>\n",
       "      <td>76.000000</td>\n",
       "    </tr>\n",
       "    <tr>\n",
       "      <th>Hit Ratio %</th>\n",
       "      <td>47.368421</td>\n",
       "    </tr>\n",
       "  </tbody>\n",
       "</table>\n",
       "</div>"
      ],
      "text/plain": [
       "                    Banco Chile / Santander\n",
       "Total Returns %                   38.891896\n",
       "Sharpe Ratio                       1.145315\n",
       "Sortino Ratio                      0.178066\n",
       "Maximum Drawdown %                 2.840500\n",
       "Number of Trades                  76.000000\n",
       "Hit Ratio %                       47.368421"
      ]
     },
     "execution_count": 20,
     "metadata": {},
     "output_type": "execute_result"
    }
   ],
   "source": [
    "quant_test = backtest(residual_sanchile,65)\n",
    "\n",
    "test_df.iloc[0,:] = quant_test[0][-1]\n",
    "test_df.iloc[1,:] = quant_test[1]\n",
    "test_df.iloc[2,:] = quant_test[2]\n",
    "test_df.iloc[3,:] = quant_test[3]\n",
    "test_df.iloc[4,:] = quant_test[4]\n",
    "test_df.iloc[5,:] = quant_test[5]\n",
    "test_df"
   ]
  },
  {
   "cell_type": "code",
   "execution_count": 21,
   "metadata": {},
   "outputs": [
    {
     "data": {
      "text/html": [
       "<div>\n",
       "<style scoped>\n",
       "    .dataframe tbody tr th:only-of-type {\n",
       "        vertical-align: middle;\n",
       "    }\n",
       "\n",
       "    .dataframe tbody tr th {\n",
       "        vertical-align: top;\n",
       "    }\n",
       "\n",
       "    .dataframe thead th {\n",
       "        text-align: right;\n",
       "    }\n",
       "</style>\n",
       "<table border=\"1\" class=\"dataframe\">\n",
       "  <thead>\n",
       "    <tr style=\"text-align: right;\">\n",
       "      <th></th>\n",
       "      <th>Total Returns %</th>\n",
       "      <th>Sharpe Ratio</th>\n",
       "      <th>Sortino Ratio</th>\n",
       "      <th>Maximum Drawdown %</th>\n",
       "      <th>Number of Trades</th>\n",
       "      <th>Hit Ratio %</th>\n",
       "    </tr>\n",
       "  </thead>\n",
       "  <tbody>\n",
       "    <tr>\n",
       "      <th>Banco Chile / Santander</th>\n",
       "      <td>38.891896</td>\n",
       "      <td>1.145315</td>\n",
       "      <td>0.178066</td>\n",
       "      <td>2.8405</td>\n",
       "      <td>76.0</td>\n",
       "      <td>47.368421</td>\n",
       "    </tr>\n",
       "  </tbody>\n",
       "</table>\n",
       "</div>"
      ],
      "text/plain": [
       "                         Total Returns %  Sharpe Ratio  Sortino Ratio  \\\n",
       "Banco Chile / Santander        38.891896      1.145315       0.178066   \n",
       "\n",
       "                         Maximum Drawdown %  Number of Trades  Hit Ratio %  \n",
       "Banco Chile / Santander              2.8405              76.0    47.368421  "
      ]
     },
     "execution_count": 21,
     "metadata": {},
     "output_type": "execute_result"
    },
    {
     "data": {
      "image/png": "[encoded data removed]",
      "text/plain": [
       "<Figure size 432x288 with 1 Axes>"
      ]
     },
     "metadata": {},
     "output_type": "display_data"
    }
   ],
   "source": [
    "quant_test[0].plot()\n",
    "plt.title('PnL') \n",
    "test_df.T"
   ]
  },
  {
   "cell_type": "markdown",
   "metadata": {},
   "source": [
    "### Conclusiones\n",
    "\n",
    "En resumen, el algoritmo de trading nos entrega un retorno a lo largo del periodo 2017-2018 de un $38.89\\%$, lo que es un retorno muy bueno para este periodo. \n",
    "\n",
    "El ratio de sharp obtenido es de un 1.14 lo que significa que la prima por riesgo obtenida en base a su desviación estandar es aceptable dado que es mayor a 1. \n",
    "\n",
    "El ratio de sortino es bajo lo que indica que la volatilidad de mis rentabilidades negativas es baja, por lo que tener un maximum drawdown de $2.84\\%$, ayuda a entender que dentro de mis rentabilidades negativas la mas baja fue de este valor y como contra ejemplo si el sortino ratio fuese mayor, existe la posibilidad de que con el algoritmo se pueda enfrentar a una perdida mayor en un siguiente testing dada la volatilidad de los retornos negativos. \n",
    "\n",
    "El número de trades fue significativo durante este periodo con un total de $76$ y de las veces que se opero, hubo una presicion del $47.36\\%$.\n",
    "\n",
    "Finalmente, para el periodo de tiempo testeado se tuvo un muy buen rendimiento de la estrategía utilizada, esto no asegura de que siempre se den estos resultados, por lo que es importante mantener una ventana con rolling adecuado y actualizado, que incluya los movimientos del spread que sean significativos para un futuro testeo en un nuevo horizonte de tiempo."
   ]
  },
  {
   "cell_type": "markdown",
   "metadata": {},
   "source": [
    "### Referencias\n",
    "\n",
    "\"High Frequency and Dynamic Pairs Trading Based on Statistical Arbitrage Using a Two-Stage Correlation and Cointegration Approach\" by George J. Miao\n",
    "\n",
    "\"Better Hedge Ratios for Spread Trading\" by Paul Teetor\n",
    "\n",
    "\"Pairs Trading, Convergence Trading, Cointegration\" by Daniel Herlemont"
   ]
  },
  {
   "cell_type": "code",
   "execution_count": null,
   "metadata": {},
   "outputs": [],
   "source": []
  }
 ],
 "metadata": {
  "kernelspec": {
   "display_name": "Python 3",
   "language": "python",
   "name": "python3"
  },
  "language_info": {
   "codemirror_mode": {
    "name": "ipython",
    "version": 3
   },
   "file_extension": ".py",
   "mimetype": "text/x-python",
   "name": "python",
   "nbconvert_exporter": "python",
   "pygments_lexer": "ipython3",
   "version": "3.6.5"
  }
 },
 "nbformat": 4,
 "nbformat_minor": 2
}
